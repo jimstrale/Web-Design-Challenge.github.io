{
 "cells": [
  {
   "cell_type": "code",
   "execution_count": 2,
   "id": "0c0e5e2d-db8e-40f5-be53-a61c7561c844",
   "metadata": {},
   "outputs": [],
   "source": [
    "import pandas as pd"
   ]
  },
  {
   "cell_type": "code",
   "execution_count": 3,
   "id": "281bd03d-1d4a-409c-937e-c2c8b22e09ab",
   "metadata": {},
   "outputs": [],
   "source": [
    "cities_df = pd.read_csv('Resources/cities.csv')"
   ]
  },
  {
   "cell_type": "code",
   "execution_count": 7,
   "id": "6021456e-f0b9-4713-b9ee-70817b3e66bd",
   "metadata": {},
   "outputs": [],
   "source": [
    "cities_df.to_html('Visualizations/data.html', index = False)"
   ]
  },
  {
   "cell_type": "code",
   "execution_count": null,
   "id": "3511f06c-d363-4a1b-9d8a-0189417e0a3d",
   "metadata": {},
   "outputs": [],
   "source": []
  }
 ],
 "metadata": {
  "kernelspec": {
   "display_name": "Python 3 (ipykernel)",
   "language": "python",
   "name": "python3"
  },
  "language_info": {
   "codemirror_mode": {
    "name": "ipython",
    "version": 3
   },
   "file_extension": ".py",
   "mimetype": "text/x-python",
   "name": "python",
   "nbconvert_exporter": "python",
   "pygments_lexer": "ipython3",
   "version": "3.9.7"
  }
 },
 "nbformat": 4,
 "nbformat_minor": 5
}
